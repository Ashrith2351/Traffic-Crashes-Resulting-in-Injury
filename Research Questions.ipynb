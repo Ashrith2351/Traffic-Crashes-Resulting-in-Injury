{
 "cells": [
  {
   "cell_type": "code",
   "execution_count": 1,
   "metadata": {},
   "outputs": [],
   "source": [
    "import pandas as pd\n",
    "import numpy as np\n",
    "import matplotlib.pyplot as plt\n",
    "import seaborn as sns\n",
    "from datetime import datetime"
   ]
  },
  {
   "cell_type": "code",
   "execution_count": 2,
   "metadata": {},
   "outputs": [
    {
     "name": "stderr",
     "output_type": "stream",
     "text": [
      "D:\\anaconda\\lib\\site-packages\\IPython\\core\\interactiveshell.py:3146: DtypeWarning: Columns (3,16) have mixed types.Specify dtype option on import or set low_memory=False.\n",
      "  has_raised = await self.run_ast_nodes(code_ast.body, cell_name,\n"
     ]
    },
    {
     "data": {
      "text/html": [
       "<div>\n",
       "<style scoped>\n",
       "    .dataframe tbody tr th:only-of-type {\n",
       "        vertical-align: middle;\n",
       "    }\n",
       "\n",
       "    .dataframe tbody tr th {\n",
       "        vertical-align: top;\n",
       "    }\n",
       "\n",
       "    .dataframe thead th {\n",
       "        text-align: right;\n",
       "    }\n",
       "</style>\n",
       "<table border=\"1\" class=\"dataframe\">\n",
       "  <thead>\n",
       "    <tr style=\"text-align: right;\">\n",
       "      <th></th>\n",
       "      <th>Unique_Id</th>\n",
       "      <th>Cnn_Intrsctn_Fkey</th>\n",
       "      <th>Cnn_Sgmt_Fkey</th>\n",
       "      <th>Case_Id_Pkey</th>\n",
       "      <th>Tb_Latitude</th>\n",
       "      <th>Tb_Longitude</th>\n",
       "      <th>Geocode_Source</th>\n",
       "      <th>Geocode_Location</th>\n",
       "      <th>Collision_Datetime</th>\n",
       "      <th>Collision_Date</th>\n",
       "      <th>...</th>\n",
       "      <th>Party2_Move_Pre_Acc</th>\n",
       "      <th>Point</th>\n",
       "      <th>Data_As_Of</th>\n",
       "      <th>Data_Updated_At</th>\n",
       "      <th>Data_Loaded_At</th>\n",
       "      <th>Neighborhoods</th>\n",
       "      <th>Sf Find Neighborhoods</th>\n",
       "      <th>Current Police Districts</th>\n",
       "      <th>Current Supervisor Districts</th>\n",
       "      <th>Analysis Neighborhoods</th>\n",
       "    </tr>\n",
       "  </thead>\n",
       "  <tbody>\n",
       "    <tr>\n",
       "      <th>0</th>\n",
       "      <td>439</td>\n",
       "      <td>20410000</td>\n",
       "      <td>13331000.0</td>\n",
       "      <td>130384415</td>\n",
       "      <td>37.713257</td>\n",
       "      <td>-122.414407</td>\n",
       "      <td>Sfpd-Crossroads</td>\n",
       "      <td>City Street</td>\n",
       "      <td>05/10/2013 02:53:00 Pm</td>\n",
       "      <td>2013 May 10</td>\n",
       "      <td>...</td>\n",
       "      <td>Stopped In Road</td>\n",
       "      <td>Point (-122.414406 37.713257)</td>\n",
       "      <td>05/10/2013 12:00:00 Am</td>\n",
       "      <td>04/26/2023 12:00:00 Am</td>\n",
       "      <td>09/30/2023 03:30:25 Am</td>\n",
       "      <td>75.0</td>\n",
       "      <td>75.0</td>\n",
       "      <td>9.0</td>\n",
       "      <td>9.0</td>\n",
       "      <td>40.0</td>\n",
       "    </tr>\n",
       "    <tr>\n",
       "      <th>1</th>\n",
       "      <td>54003</td>\n",
       "      <td>20364000</td>\n",
       "      <td>2445000.0</td>\n",
       "      <td>200639029</td>\n",
       "      <td>37.714311</td>\n",
       "      <td>-122.408277</td>\n",
       "      <td>Sfpd-Interim Db</td>\n",
       "      <td>City Street</td>\n",
       "      <td>10/22/2020 08:15:00 Pm</td>\n",
       "      <td>2020 October 22</td>\n",
       "      <td>...</td>\n",
       "      <td>Proceeding Straight</td>\n",
       "      <td>Point (-122.40828 37.71431)</td>\n",
       "      <td>10/27/2020 12:00:00 Am</td>\n",
       "      <td>04/26/2023 12:00:00 Am</td>\n",
       "      <td>09/30/2023 03:30:28 Am</td>\n",
       "      <td>75.0</td>\n",
       "      <td>75.0</td>\n",
       "      <td>9.0</td>\n",
       "      <td>9.0</td>\n",
       "      <td>40.0</td>\n",
       "    </tr>\n",
       "    <tr>\n",
       "      <th>2</th>\n",
       "      <td>57019</td>\n",
       "      <td>30079000</td>\n",
       "      <td>13154102.0</td>\n",
       "      <td>210833590</td>\n",
       "      <td>37.787227</td>\n",
       "      <td>-122.421798</td>\n",
       "      <td>Sfpd-Interim Db</td>\n",
       "      <td>City Street</td>\n",
       "      <td>12/17/2021 09:49:00 Am</td>\n",
       "      <td>2021 December 17</td>\n",
       "      <td>...</td>\n",
       "      <td>Parked</td>\n",
       "      <td>Point (-122.4218 37.787228)</td>\n",
       "      <td>01/20/2022 12:00:00 Am</td>\n",
       "      <td>04/26/2023 12:00:00 Am</td>\n",
       "      <td>09/30/2023 03:30:40 Am</td>\n",
       "      <td>100.0</td>\n",
       "      <td>100.0</td>\n",
       "      <td>4.0</td>\n",
       "      <td>6.0</td>\n",
       "      <td>39.0</td>\n",
       "    </tr>\n",
       "    <tr>\n",
       "      <th>3</th>\n",
       "      <td>30729</td>\n",
       "      <td>26629000</td>\n",
       "      <td>3453000.0</td>\n",
       "      <td>6096662</td>\n",
       "      <td>37.786863</td>\n",
       "      <td>-122.434697</td>\n",
       "      <td>Sfpd-Crossroads</td>\n",
       "      <td>City Street</td>\n",
       "      <td>09/27/2012 10:22:00 Am</td>\n",
       "      <td>2012 September 27</td>\n",
       "      <td>...</td>\n",
       "      <td>Stopped In Road</td>\n",
       "      <td>Point (-122.4347 37.78686)</td>\n",
       "      <td>09/27/2012 12:00:00 Am</td>\n",
       "      <td>04/26/2023 12:00:00 Am</td>\n",
       "      <td>09/30/2023 03:30:43 Am</td>\n",
       "      <td>103.0</td>\n",
       "      <td>103.0</td>\n",
       "      <td>4.0</td>\n",
       "      <td>11.0</td>\n",
       "      <td>30.0</td>\n",
       "    </tr>\n",
       "    <tr>\n",
       "      <th>4</th>\n",
       "      <td>5080</td>\n",
       "      <td>21964000</td>\n",
       "      <td>3028101.0</td>\n",
       "      <td>3997255</td>\n",
       "      <td>37.733801</td>\n",
       "      <td>-122.435670</td>\n",
       "      <td>Sfpd-Crossroads</td>\n",
       "      <td>City Street</td>\n",
       "      <td>11/21/2008 08:40:00 Am</td>\n",
       "      <td>2008 November 21</td>\n",
       "      <td>...</td>\n",
       "      <td>Stopped In Road</td>\n",
       "      <td>Point (-122.43567 37.733803)</td>\n",
       "      <td>11/21/2008 12:00:00 Am</td>\n",
       "      <td>04/26/2023 12:00:00 Am</td>\n",
       "      <td>09/30/2023 03:30:44 Am</td>\n",
       "      <td>96.0</td>\n",
       "      <td>96.0</td>\n",
       "      <td>9.0</td>\n",
       "      <td>5.0</td>\n",
       "      <td>41.0</td>\n",
       "    </tr>\n",
       "    <tr>\n",
       "      <th>...</th>\n",
       "      <td>...</td>\n",
       "      <td>...</td>\n",
       "      <td>...</td>\n",
       "      <td>...</td>\n",
       "      <td>...</td>\n",
       "      <td>...</td>\n",
       "      <td>...</td>\n",
       "      <td>...</td>\n",
       "      <td>...</td>\n",
       "      <td>...</td>\n",
       "      <td>...</td>\n",
       "      <td>...</td>\n",
       "      <td>...</td>\n",
       "      <td>...</td>\n",
       "      <td>...</td>\n",
       "      <td>...</td>\n",
       "      <td>...</td>\n",
       "      <td>...</td>\n",
       "      <td>...</td>\n",
       "      <td>...</td>\n",
       "      <td>...</td>\n",
       "    </tr>\n",
       "    <tr>\n",
       "      <th>16391</th>\n",
       "      <td>25812</td>\n",
       "      <td>24655000</td>\n",
       "      <td>6108000.0</td>\n",
       "      <td>6058802</td>\n",
       "      <td>37.787746</td>\n",
       "      <td>-122.405197</td>\n",
       "      <td>Sfpd-Crossroads</td>\n",
       "      <td>City Street</td>\n",
       "      <td>03/01/2012 09:36:00 Am</td>\n",
       "      <td>2012 March 01</td>\n",
       "      <td>...</td>\n",
       "      <td>Proceeding Straight</td>\n",
       "      <td>Point (-122.4052 37.787746)</td>\n",
       "      <td>03/01/2012 12:00:00 Am</td>\n",
       "      <td>04/26/2023 12:00:00 Am</td>\n",
       "      <td>09/30/2023 03:32:59 Am</td>\n",
       "      <td>19.0</td>\n",
       "      <td>19.0</td>\n",
       "      <td>6.0</td>\n",
       "      <td>3.0</td>\n",
       "      <td>8.0</td>\n",
       "    </tr>\n",
       "    <tr>\n",
       "      <th>16392</th>\n",
       "      <td>43785</td>\n",
       "      <td>27486000</td>\n",
       "      <td>6071101.0</td>\n",
       "      <td>3538811</td>\n",
       "      <td>37.780568</td>\n",
       "      <td>-122.473965</td>\n",
       "      <td>Sfpd-Crossroads</td>\n",
       "      <td>City Street</td>\n",
       "      <td>12/05/2007 04:32:00 Pm</td>\n",
       "      <td>2007 December 05</td>\n",
       "      <td>...</td>\n",
       "      <td>Not Stated</td>\n",
       "      <td>Point (-122.47397 37.780567)</td>\n",
       "      <td>12/05/2007 12:00:00 Am</td>\n",
       "      <td>04/26/2023 12:00:00 Am</td>\n",
       "      <td>09/30/2023 03:33:04 Am</td>\n",
       "      <td>5.0</td>\n",
       "      <td>5.0</td>\n",
       "      <td>8.0</td>\n",
       "      <td>4.0</td>\n",
       "      <td>29.0</td>\n",
       "    </tr>\n",
       "    <tr>\n",
       "      <th>16393</th>\n",
       "      <td>48020</td>\n",
       "      <td>21647000</td>\n",
       "      <td>5087000.0</td>\n",
       "      <td>190541536</td>\n",
       "      <td>37.724707</td>\n",
       "      <td>-122.429379</td>\n",
       "      <td>Sfpd-Interim Db</td>\n",
       "      <td>City Street</td>\n",
       "      <td>07/25/2019 10:34:00 Pm</td>\n",
       "      <td>2019 July 25</td>\n",
       "      <td>...</td>\n",
       "      <td>Backing</td>\n",
       "      <td>Point (-122.42938 37.72471)</td>\n",
       "      <td>08/09/2019 12:00:00 Am</td>\n",
       "      <td>04/26/2023 12:00:00 Am</td>\n",
       "      <td>09/30/2023 03:33:05 Am</td>\n",
       "      <td>90.0</td>\n",
       "      <td>90.0</td>\n",
       "      <td>9.0</td>\n",
       "      <td>1.0</td>\n",
       "      <td>7.0</td>\n",
       "    </tr>\n",
       "    <tr>\n",
       "      <th>16394</th>\n",
       "      <td>35717</td>\n",
       "      <td>26705000</td>\n",
       "      <td>2785001.0</td>\n",
       "      <td>6049383</td>\n",
       "      <td>37.804143</td>\n",
       "      <td>-122.425134</td>\n",
       "      <td>Sfpd-Crossroads</td>\n",
       "      <td>City Street</td>\n",
       "      <td>10/15/2012 06:00:00 Pm</td>\n",
       "      <td>2012 October 15</td>\n",
       "      <td>...</td>\n",
       "      <td>Proceeding Straight</td>\n",
       "      <td>Point (-122.42513 37.804142)</td>\n",
       "      <td>10/15/2012 12:00:00 Am</td>\n",
       "      <td>04/26/2023 12:00:00 Am</td>\n",
       "      <td>09/30/2023 03:32:59 Am</td>\n",
       "      <td>17.0</td>\n",
       "      <td>17.0</td>\n",
       "      <td>4.0</td>\n",
       "      <td>6.0</td>\n",
       "      <td>13.0</td>\n",
       "    </tr>\n",
       "    <tr>\n",
       "      <th>16395</th>\n",
       "      <td>59928</td>\n",
       "      <td>23150000</td>\n",
       "      <td>923101.0</td>\n",
       "      <td>220678574</td>\n",
       "      <td>37.737605</td>\n",
       "      <td>-122.475224</td>\n",
       "      <td>Sfpd-Interim Db</td>\n",
       "      <td>City Street</td>\n",
       "      <td>10/03/2022 04:45:00 Pm</td>\n",
       "      <td>2022 October 03</td>\n",
       "      <td>...</td>\n",
       "      <td>Stopped</td>\n",
       "      <td>Point (-122.47523 37.737606)</td>\n",
       "      <td>02/01/2023 12:00:00 Am</td>\n",
       "      <td>04/27/2023 12:00:00 Am</td>\n",
       "      <td>09/30/2023 03:33:03 Am</td>\n",
       "      <td>46.0</td>\n",
       "      <td>46.0</td>\n",
       "      <td>10.0</td>\n",
       "      <td>7.0</td>\n",
       "      <td>41.0</td>\n",
       "    </tr>\n",
       "  </tbody>\n",
       "</table>\n",
       "<p>16396 rows × 59 columns</p>\n",
       "</div>"
      ],
      "text/plain": [
       "       Unique_Id  Cnn_Intrsctn_Fkey  Cnn_Sgmt_Fkey Case_Id_Pkey  Tb_Latitude  \\\n",
       "0            439           20410000     13331000.0    130384415    37.713257   \n",
       "1          54003           20364000      2445000.0    200639029    37.714311   \n",
       "2          57019           30079000     13154102.0    210833590    37.787227   \n",
       "3          30729           26629000      3453000.0      6096662    37.786863   \n",
       "4           5080           21964000      3028101.0      3997255    37.733801   \n",
       "...          ...                ...            ...          ...          ...   \n",
       "16391      25812           24655000      6108000.0      6058802    37.787746   \n",
       "16392      43785           27486000      6071101.0      3538811    37.780568   \n",
       "16393      48020           21647000      5087000.0    190541536    37.724707   \n",
       "16394      35717           26705000      2785001.0      6049383    37.804143   \n",
       "16395      59928           23150000       923101.0    220678574    37.737605   \n",
       "\n",
       "       Tb_Longitude   Geocode_Source Geocode_Location      Collision_Datetime  \\\n",
       "0       -122.414407  Sfpd-Crossroads      City Street  05/10/2013 02:53:00 Pm   \n",
       "1       -122.408277  Sfpd-Interim Db      City Street  10/22/2020 08:15:00 Pm   \n",
       "2       -122.421798  Sfpd-Interim Db      City Street  12/17/2021 09:49:00 Am   \n",
       "3       -122.434697  Sfpd-Crossroads      City Street  09/27/2012 10:22:00 Am   \n",
       "4       -122.435670  Sfpd-Crossroads      City Street  11/21/2008 08:40:00 Am   \n",
       "...             ...              ...              ...                     ...   \n",
       "16391   -122.405197  Sfpd-Crossroads      City Street  03/01/2012 09:36:00 Am   \n",
       "16392   -122.473965  Sfpd-Crossroads      City Street  12/05/2007 04:32:00 Pm   \n",
       "16393   -122.429379  Sfpd-Interim Db      City Street  07/25/2019 10:34:00 Pm   \n",
       "16394   -122.425134  Sfpd-Crossroads      City Street  10/15/2012 06:00:00 Pm   \n",
       "16395   -122.475224  Sfpd-Interim Db      City Street  10/03/2022 04:45:00 Pm   \n",
       "\n",
       "          Collision_Date  ...  Party2_Move_Pre_Acc  \\\n",
       "0            2013 May 10  ...      Stopped In Road   \n",
       "1        2020 October 22  ...  Proceeding Straight   \n",
       "2       2021 December 17  ...               Parked   \n",
       "3      2012 September 27  ...      Stopped In Road   \n",
       "4       2008 November 21  ...      Stopped In Road   \n",
       "...                  ...  ...                  ...   \n",
       "16391      2012 March 01  ...  Proceeding Straight   \n",
       "16392   2007 December 05  ...           Not Stated   \n",
       "16393       2019 July 25  ...              Backing   \n",
       "16394    2012 October 15  ...  Proceeding Straight   \n",
       "16395    2022 October 03  ...              Stopped   \n",
       "\n",
       "                               Point              Data_As_Of  \\\n",
       "0      Point (-122.414406 37.713257)  05/10/2013 12:00:00 Am   \n",
       "1        Point (-122.40828 37.71431)  10/27/2020 12:00:00 Am   \n",
       "2        Point (-122.4218 37.787228)  01/20/2022 12:00:00 Am   \n",
       "3         Point (-122.4347 37.78686)  09/27/2012 12:00:00 Am   \n",
       "4       Point (-122.43567 37.733803)  11/21/2008 12:00:00 Am   \n",
       "...                              ...                     ...   \n",
       "16391    Point (-122.4052 37.787746)  03/01/2012 12:00:00 Am   \n",
       "16392   Point (-122.47397 37.780567)  12/05/2007 12:00:00 Am   \n",
       "16393    Point (-122.42938 37.72471)  08/09/2019 12:00:00 Am   \n",
       "16394   Point (-122.42513 37.804142)  10/15/2012 12:00:00 Am   \n",
       "16395   Point (-122.47523 37.737606)  02/01/2023 12:00:00 Am   \n",
       "\n",
       "              Data_Updated_At          Data_Loaded_At  Neighborhoods  \\\n",
       "0      04/26/2023 12:00:00 Am  09/30/2023 03:30:25 Am           75.0   \n",
       "1      04/26/2023 12:00:00 Am  09/30/2023 03:30:28 Am           75.0   \n",
       "2      04/26/2023 12:00:00 Am  09/30/2023 03:30:40 Am          100.0   \n",
       "3      04/26/2023 12:00:00 Am  09/30/2023 03:30:43 Am          103.0   \n",
       "4      04/26/2023 12:00:00 Am  09/30/2023 03:30:44 Am           96.0   \n",
       "...                       ...                     ...            ...   \n",
       "16391  04/26/2023 12:00:00 Am  09/30/2023 03:32:59 Am           19.0   \n",
       "16392  04/26/2023 12:00:00 Am  09/30/2023 03:33:04 Am            5.0   \n",
       "16393  04/26/2023 12:00:00 Am  09/30/2023 03:33:05 Am           90.0   \n",
       "16394  04/26/2023 12:00:00 Am  09/30/2023 03:32:59 Am           17.0   \n",
       "16395  04/27/2023 12:00:00 Am  09/30/2023 03:33:03 Am           46.0   \n",
       "\n",
       "      Sf Find Neighborhoods Current Police Districts  \\\n",
       "0                      75.0                      9.0   \n",
       "1                      75.0                      9.0   \n",
       "2                     100.0                      4.0   \n",
       "3                     103.0                      4.0   \n",
       "4                      96.0                      9.0   \n",
       "...                     ...                      ...   \n",
       "16391                  19.0                      6.0   \n",
       "16392                   5.0                      8.0   \n",
       "16393                  90.0                      9.0   \n",
       "16394                  17.0                      4.0   \n",
       "16395                  46.0                     10.0   \n",
       "\n",
       "      Current Supervisor Districts Analysis Neighborhoods  \n",
       "0                              9.0                   40.0  \n",
       "1                              9.0                   40.0  \n",
       "2                              6.0                   39.0  \n",
       "3                             11.0                   30.0  \n",
       "4                              5.0                   41.0  \n",
       "...                            ...                    ...  \n",
       "16391                          3.0                    8.0  \n",
       "16392                          4.0                   29.0  \n",
       "16393                          1.0                    7.0  \n",
       "16394                          6.0                   13.0  \n",
       "16395                          7.0                   41.0  \n",
       "\n",
       "[16396 rows x 59 columns]"
      ]
     },
     "execution_count": 2,
     "metadata": {},
     "output_type": "execute_result"
    }
   ],
   "source": [
    "data = pd.read_csv('Traffic_Crashes_Resulting_in_Injury_Cleaned.csv')\n",
    "data"
   ]
  },
  {
   "cell_type": "code",
   "execution_count": 3,
   "metadata": {},
   "outputs": [],
   "source": [
    "#Research question 1\n",
    "#What are the most common weather conditions associated with traffic crashes resulting in injury?\n",
    "injury_data = data[data['Collision_Severity'].str.contains('Injury')]\n",
    "weather_counts = injury_data['Weather_1'].value_counts()"
   ]
  },
  {
   "cell_type": "code",
   "execution_count": 4,
   "metadata": {},
   "outputs": [
    {
     "name": "stdout",
     "output_type": "stream",
     "text": [
      "Weather Conditions Associated with Traffic Crashes Resulting in Injury:\n",
      "Clear                  13430\n",
      "Cloudy                  1747\n",
      "Raining                  848\n",
      "Not Stated                87\n",
      "Fog                       65\n",
      "Other                     32\n",
      "Wind                      13\n",
      "Other: Not On Scene        1\n",
      "Snowing                    1\n",
      "Name: Weather_1, dtype: int64\n"
     ]
    }
   ],
   "source": [
    "print(\"Weather Conditions Associated with Traffic Crashes Resulting in Injury:\")\n",
    "print(weather_counts.head(10))"
   ]
  },
  {
   "cell_type": "code",
   "execution_count": 5,
   "metadata": {},
   "outputs": [
    {
     "data": {
      "image/png": "[encoded data removed]",
      "text/plain": [
       "<Figure size 864x432 with 1 Axes>"
      ]
     },
     "metadata": {
      "needs_background": "light"
     },
     "output_type": "display_data"
    }
   ],
   "source": [
    "plt.figure(figsize=(12, 6))\n",
    "sns.barplot(x=weather_counts.head(10).index, y=weather_counts.head(10).values, palette=\"viridis\")\n",
    "plt.title(\"Weather Conditions Associated with Traffic Crashes Resulting in Injury\")\n",
    "plt.xlabel(\"Weather Condition\")\n",
    "plt.ylabel(\"Number of Crashes\")\n",
    "plt.xticks(rotation=45, ha='right')\n",
    "plt.tight_layout()\n",
    "plt.show()"
   ]
  },
  {
   "cell_type": "code",
   "execution_count": 7,
   "metadata": {},
   "outputs": [],
   "source": [
    "#Research question 2\n",
    "#Are there specific days of the week or times of the day when theseaccidents are more likely to occur?\n",
    "data['Collision_Datetime'] = pd.to_datetime(data['Collision_Datetime'])"
   ]
  },
  {
   "cell_type": "code",
   "execution_count": 8,
   "metadata": {},
   "outputs": [],
   "source": [
    "data['day_of_week'] = data['Collision_Datetime'].dt.day_name()\n",
    "data['hour_of_day'] = data['Collision_Datetime'].dt.hour"
   ]
  },
  {
   "cell_type": "code",
   "execution_count": 9,
   "metadata": {},
   "outputs": [],
   "source": [
    "day_of_week_counts = data['day_of_week'].value_counts()"
   ]
  },
  {
   "cell_type": "code",
   "execution_count": 10,
   "metadata": {},
   "outputs": [
    {
     "name": "stdout",
     "output_type": "stream",
     "text": [
      "Accidents Distribution Across Days of the Week:\n",
      "Wednesday    2602\n",
      "Friday       2553\n",
      "Tuesday      2543\n",
      "Thursday     2427\n",
      "Monday       2301\n",
      "Saturday     2118\n",
      "Sunday       1852\n",
      "Name: day_of_week, dtype: int64\n"
     ]
    }
   ],
   "source": [
    "print(\"Accidents Distribution Across Days of the Week:\")\n",
    "print(data['day_of_week'].value_counts())"
   ]
  },
  {
   "cell_type": "code",
   "execution_count": 11,
   "metadata": {},
   "outputs": [
    {
     "data": {
      "image/png": "[encoded data removed]",
      "text/plain": [
       "<Figure size 864x432 with 1 Axes>"
      ]
     },
     "metadata": {
      "needs_background": "light"
     },
     "output_type": "display_data"
    }
   ],
   "source": [
    "plt.figure(figsize=(12, 6))\n",
    "sns.barplot(x=day_of_week_counts.index, y=day_of_week_counts.values, order=['Monday', 'Tuesday', 'Wednesday', 'Thursday', 'Friday', 'Saturday', 'Sunday'])\n",
    "plt.title('Accidents Distribution Across Days of the Week')\n",
    "plt.xlabel('Day of the Week')\n",
    "plt.ylabel('Number of Accidents')\n",
    "plt.show()"
   ]
  },
  {
   "cell_type": "code",
   "execution_count": 12,
   "metadata": {},
   "outputs": [
    {
     "name": "stdout",
     "output_type": "stream",
     "text": [
      "\n",
      "Accidents Distribution Across Times of the Day:\n",
      "17    1353\n",
      "18    1242\n",
      "15    1196\n",
      "16    1177\n",
      "14    1064\n",
      "8     1012\n",
      "13     925\n",
      "12     908\n",
      "9      886\n",
      "19     867\n",
      "11     838\n",
      "10     731\n",
      "20     649\n",
      "21     605\n",
      "7      605\n",
      "22     510\n",
      "23     447\n",
      "0      291\n",
      "2      250\n",
      "6      247\n",
      "1      247\n",
      "5      137\n",
      "3      121\n",
      "4       88\n",
      "Name: hour_of_day, dtype: int64\n"
     ]
    }
   ],
   "source": [
    "print(\"\\nAccidents Distribution Across Times of the Day:\")\n",
    "print(data['hour_of_day'].value_counts())"
   ]
  },
  {
   "cell_type": "code",
   "execution_count": 13,
   "metadata": {},
   "outputs": [
    {
     "data": {
      "image/png": "[encoded data removed]",
      "text/plain": [
       "<Figure size 1080x432 with 1 Axes>"
      ]
     },
     "metadata": {
      "needs_background": "light"
     },
     "output_type": "display_data"
    }
   ],
   "source": [
    "hour_of_day_counts = data['hour_of_day'].value_counts()\n",
    "\n",
    "plt.figure(figsize=(15, 6))\n",
    "sns.barplot(x=hour_of_day_counts.index, y=hour_of_day_counts.values)\n",
    "plt.title('Accidents Distribution Across Times of the Day')\n",
    "plt.xlabel('Hour of the Day')\n",
    "plt.ylabel('Number of Accidents')\n",
    "plt.show()"
   ]
  },
  {
   "cell_type": "code",
   "execution_count": 14,
   "metadata": {},
   "outputs": [],
   "source": [
    "#Research question 3\n",
    "#Do certain intersections or road types have a higher frequency of injury related accidents?\n",
    "injury_data = data[data['Collision_Severity'].str.contains('Injury')]"
   ]
  },
  {
   "cell_type": "code",
   "execution_count": 15,
   "metadata": {},
   "outputs": [],
   "source": [
    "intersection_counts = injury_data['Intersection'].value_counts().head(10)"
   ]
  },
  {
   "cell_type": "code",
   "execution_count": 16,
   "metadata": {},
   "outputs": [
    {
     "name": "stdout",
     "output_type": "stream",
     "text": [
      "Top 10 Intersections with the Highest Frequency of Injury-Related Accidents:\n",
      "Midblock > 20Ft                   9369\n",
      "Intersection <= 20Ft              4048\n",
      "Intersection Rear End <= 150Ft    2807\n",
      "Name: Intersection, dtype: int64\n"
     ]
    }
   ],
   "source": [
    "print(\"Top 10 Intersections with the Highest Frequency of Injury-Related Accidents:\")\n",
    "print(injury_data['Intersection'].value_counts().head(10))"
   ]
  },
  {
   "cell_type": "code",
   "execution_count": 17,
   "metadata": {},
   "outputs": [
    {
     "data": {
      "image/png": "[encoded data removed]",
      "text/plain": [
       "<Figure size 864x432 with 1 Axes>"
      ]
     },
     "metadata": {
      "needs_background": "light"
     },
     "output_type": "display_data"
    }
   ],
   "source": [
    "plt.figure(figsize=(12, 6))\n",
    "sns.barplot(x=intersection_counts.index, y=intersection_counts.values)\n",
    "plt.title('Top 10 Intersections with the Highest Frequency of Injury-Related Accidents')\n",
    "plt.xlabel('Intersection Type')\n",
    "plt.ylabel('Number of Injury-Related Accidents')\n",
    "plt.show()"
   ]
  },
  {
   "cell_type": "code",
   "execution_count": 18,
   "metadata": {},
   "outputs": [
    {
     "name": "stdout",
     "output_type": "stream",
     "text": [
      "\n",
      "Road Types with the Highest Frequency of Injury-Related Accidents:\n",
      "Dry             14514\n",
      "Wet              1487\n",
      "Not Stated        200\n",
      "Slippery           13\n",
      "Snowy Or Icy       10\n",
      "Name: Road_Surface, dtype: int64\n"
     ]
    }
   ],
   "source": [
    "print(\"\\nRoad Types with the Highest Frequency of Injury-Related Accidents:\")\n",
    "print(injury_data['Road_Surface'].value_counts().head(10))"
   ]
  },
  {
   "cell_type": "code",
   "execution_count": 19,
   "metadata": {},
   "outputs": [
    {
     "data": {
      "image/png": "[encoded data removed]",
      "text/plain": [
       "<Figure size 864x432 with 1 Axes>"
      ]
     },
     "metadata": {
      "needs_background": "light"
     },
     "output_type": "display_data"
    }
   ],
   "source": [
    "road_type_counts = injury_data['Road_Surface'].value_counts().head(10)\n",
    "\n",
    "plt.figure(figsize=(12, 6))\n",
    "sns.barplot(x=road_type_counts.index, y=road_type_counts.values)\n",
    "plt.title('Road Types with the Highest Frequency of Injury-Related Accidents')\n",
    "plt.xlabel('Road Type')\n",
    "plt.ylabel('Number of Injury-Related Accidents')\n",
    "plt.show()"
   ]
  },
  {
   "cell_type": "code",
   "execution_count": null,
   "metadata": {},
   "outputs": [],
   "source": []
  }
 ],
 "metadata": {
  "kernelspec": {
   "display_name": "Python 3",
   "language": "python",
   "name": "python3"
  },
  "language_info": {
   "codemirror_mode": {
    "name": "ipython",
    "version": 3
   },
   "file_extension": ".py",
   "mimetype": "text/x-python",
   "name": "python",
   "nbconvert_exporter": "python",
   "pygments_lexer": "ipython3",
   "version": "3.8.5"
  }
 },
 "nbformat": 4,
 "nbformat_minor": 4
}
